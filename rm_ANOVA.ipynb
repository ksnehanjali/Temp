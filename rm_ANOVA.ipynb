{
 "cells": [
  {
   "cell_type": "code",
   "execution_count": 1,
   "id": "19c3d8b0",
   "metadata": {},
   "outputs": [
    {
     "name": "stderr",
     "output_type": "stream",
     "text": [
      "also installing the dependency 'jsonlite'\n",
      "\n"
     ]
    },
    {
     "name": "stdout",
     "output_type": "stream",
     "text": [
      "\n",
      "  There is a binary version available but the source version is later:\n",
      "         binary source needs_compilation\n",
      "jsonlite  1.7.2  1.8.0              TRUE\n",
      "\n",
      "  Binaries will be installed\n",
      "package 'jsonlite' successfully unpacked and MD5 sums checked\n"
     ]
    },
    {
     "name": "stderr",
     "output_type": "stream",
     "text": [
      "Warning message:\n",
      "\"cannot remove prior installation of package 'jsonlite'\"Warning message in file.copy(savedcopy, lib, recursive = TRUE):\n",
      "\"Problem D:\\Users\\Florian\\anaconda3\\envs\\VHB\\Lib\\R\\library\\00LOCK\\jsonlite\\libs\\x64\\jsonlite.dll nach D:\\Users\\Florian\\anaconda3\\envs\\VHB\\Lib\\R\\library\\jsonlite\\libs\\x64\\jsonlite.dll zu kopieren: Permission denied\"Warning message:\n",
      "\"restored 'jsonlite'\""
     ]
    },
    {
     "name": "stdout",
     "output_type": "stream",
     "text": [
      "package 'tidyverse' successfully unpacked and MD5 sums checked\n",
      "\n",
      "The downloaded binary packages are in\n",
      "\tC:\\Users\\Florian\\AppData\\Local\\Temp\\RtmpQ7BuKa\\downloaded_packages\n"
     ]
    },
    {
     "name": "stderr",
     "output_type": "stream",
     "text": [
      "Warning message:\n",
      "\"package 'tidyverse' was built under R version 3.6.3\""
     ]
    },
    {
     "ename": "ERROR",
     "evalue": "Error: package or namespace load failed for 'tidyverse' in loadNamespace(j <- i[[1L]], c(lib.loc, .libPaths()), versionCheck = vI[[j]]):\n namespace 'jsonlite' 1.6 is already loaded, but >= 1.7.2 is required\n",
     "output_type": "error",
     "traceback": [
      "Error: package or namespace load failed for 'tidyverse' in loadNamespace(j <- i[[1L]], c(lib.loc, .libPaths()), versionCheck = vI[[j]]):\n namespace 'jsonlite' 1.6 is already loaded, but >= 1.7.2 is required\nTraceback:\n",
      "1. library(tidyverse)",
      "2. tryCatch({\n .     attr(package, \"LibPath\") <- which.lib.loc\n .     ns <- loadNamespace(package, lib.loc)\n .     env <- attachNamespace(ns, pos = pos, deps, exclude, include.only)\n . }, error = function(e) {\n .     P <- if (!is.null(cc <- conditionCall(e))) \n .         paste(\" in\", deparse(cc)[1L])\n .     else \"\"\n .     msg <- gettextf(\"package or namespace load failed for %s%s:\\n %s\", \n .         sQuote(package), P, conditionMessage(e))\n .     if (logical.return) \n .         message(paste(\"Error:\", msg), domain = NA)\n .     else stop(msg, call. = FALSE, domain = NA)\n . })",
      "3. tryCatchList(expr, classes, parentenv, handlers)",
      "4. tryCatchOne(expr, names, parentenv, handlers[[1L]])",
      "5. value[[3L]](cond)",
      "6. stop(msg, call. = FALSE, domain = NA)"
     ]
    }
   ],
   "source": [
    "library(tidyverse)"
   ]
  },
  {
   "cell_type": "code",
   "execution_count": 2,
   "id": "773eedeb",
   "metadata": {},
   "outputs": [
    {
     "name": "stdout",
     "output_type": "stream",
     "text": [
      "package 'datarium' successfully unpacked and MD5 sums checked\n",
      "\n",
      "The downloaded binary packages are in\n",
      "\tC:\\Users\\Florian\\AppData\\Local\\Temp\\RtmpQ7BuKa\\downloaded_packages\n"
     ]
    },
    {
     "name": "stderr",
     "output_type": "stream",
     "text": [
      "Warning message:\n",
      "\"package 'datarium' was built under R version 3.6.3\""
     ]
    }
   ],
   "source": [
    "library(datarium)"
   ]
  },
  {
   "cell_type": "code",
   "execution_count": 3,
   "id": "0da7dae2",
   "metadata": {},
   "outputs": [
    {
     "name": "stdout",
     "output_type": "stream",
     "text": [
      "package 'ggpubr' successfully unpacked and MD5 sums checked\n",
      "\n",
      "The downloaded binary packages are in\n",
      "\tC:\\Users\\Florian\\AppData\\Local\\Temp\\RtmpQ7BuKa\\downloaded_packages\n"
     ]
    },
    {
     "name": "stderr",
     "output_type": "stream",
     "text": [
      "Warning message:\n",
      "\"package 'ggpubr' was built under R version 3.6.3\"Loading required package: ggplot2\n"
     ]
    }
   ],
   "source": [
    "library(ggpubr)"
   ]
  },
  {
   "cell_type": "code",
   "execution_count": 4,
   "id": "936eaae4",
   "metadata": {},
   "outputs": [
    {
     "name": "stdout",
     "output_type": "stream",
     "text": [
      "\n",
      "  There is a binary version available but the source version is later:\n",
      "         binary  source needs_compilation\n",
      "tseries 0.10-48 0.10-51              TRUE\n",
      "\n",
      "  Binaries will be installed\n",
      "package 'tseries' successfully unpacked and MD5 sums checked\n"
     ]
    },
    {
     "name": "stderr",
     "output_type": "stream",
     "text": [
      "Warning message:\n",
      "\"cannot remove prior installation of package 'tseries'\"Warning message in file.copy(savedcopy, lib, recursive = TRUE):\n",
      "\"Problem D:\\Users\\Florian\\anaconda3\\envs\\VHB\\Lib\\R\\library\\00LOCK\\tseries\\libs\\x64\\tseries.dll nach D:\\Users\\Florian\\anaconda3\\envs\\VHB\\Lib\\R\\library\\tseries\\libs\\x64\\tseries.dll zu kopieren: Permission denied\"Warning message:\n",
      "\"restored 'tseries'\""
     ]
    },
    {
     "name": "stdout",
     "output_type": "stream",
     "text": [
      "\n",
      "The downloaded binary packages are in\n",
      "\tC:\\Users\\Florian\\AppData\\Local\\Temp\\RtmpQ7BuKa\\downloaded_packages\n"
     ]
    },
    {
     "name": "stderr",
     "output_type": "stream",
     "text": [
      "Warning message:\n",
      "\"package 'tseries' was built under R version 3.6.3\"Registered S3 method overwritten by 'xts':\n",
      "  method     from\n",
      "  as.zoo.xts zoo \n",
      "Registered S3 method overwritten by 'quantmod':\n",
      "  method            from\n",
      "  as.zoo.data.frame zoo \n"
     ]
    }
   ],
   "source": [
    "library(tseries)\n"
   ]
  },
  {
   "cell_type": "code",
   "execution_count": 5,
   "id": "e843f633",
   "metadata": {},
   "outputs": [
    {
     "name": "stdout",
     "output_type": "stream",
     "text": [
      "package 'rstatix' successfully unpacked and MD5 sums checked\n",
      "\n",
      "The downloaded binary packages are in\n",
      "\tC:\\Users\\Florian\\AppData\\Local\\Temp\\RtmpQ7BuKa\\downloaded_packages\n"
     ]
    },
    {
     "name": "stderr",
     "output_type": "stream",
     "text": [
      "Warning message:\n",
      "\"package 'rstatix' was built under R version 3.6.3\"\n",
      "Attaching package: 'rstatix'\n",
      "\n",
      "The following object is masked from 'package:stats':\n",
      "\n",
      "    filter\n",
      "\n"
     ]
    }
   ],
   "source": [
    "library(rstatix)"
   ]
  },
  {
   "cell_type": "code",
   "execution_count": 6,
   "id": "b8a921c8",
   "metadata": {},
   "outputs": [
    {
     "data": {
      "text/plain": [
       "     weight             feed   \n",
       " Min.   :108.0   casein   :12  \n",
       " 1st Qu.:204.5   horsebean:10  \n",
       " Median :258.0   linseed  :12  \n",
       " Mean   :261.3   meatmeal :11  \n",
       " 3rd Qu.:323.5   soybean  :14  \n",
       " Max.   :423.0   sunflower:12  "
      ]
     },
     "metadata": {},
     "output_type": "display_data"
    }
   ],
   "source": [
    "summary(chickwts)"
   ]
  },
  {
   "cell_type": "code",
   "execution_count": 7,
   "id": "ee032be6",
   "metadata": {
    "scrolled": false
   },
   "outputs": [
    {
     "data": {
      "text/plain": [
       "     weight             feed   \n",
       " Min.   :108.0   casein   :12  \n",
       " 1st Qu.:204.5   horsebean:10  \n",
       " Median :258.0   linseed  :12  \n",
       " Mean   :261.3   meatmeal :11  \n",
       " 3rd Qu.:323.5   soybean  :14  \n",
       " Max.   :423.0   sunflower:12  "
      ]
     },
     "metadata": {},
     "output_type": "display_data"
    },
    {
     "data": {
      "text/plain": [
       "\n",
       "\tShapiro-Wilk normality test\n",
       "\n",
       "data:  chickwts$weight[which(chickwts$feed == \"casein\")]\n",
       "W = 0.91663, p-value = 0.2592\n"
      ]
     },
     "metadata": {},
     "output_type": "display_data"
    },
    {
     "data": {
      "text/plain": [
       "\n",
       "\tShapiro-Wilk normality test\n",
       "\n",
       "data:  chickwts$weight[which(chickwts$feed == \"horsebean\")]\n",
       "W = 0.93758, p-value = 0.5264\n"
      ]
     },
     "metadata": {},
     "output_type": "display_data"
    },
    {
     "data": {
      "text/plain": [
       "\n",
       "\tShapiro-Wilk normality test\n",
       "\n",
       "data:  chickwts$weight[which(chickwts$feed == \"linseed\")]\n",
       "W = 0.96931, p-value = 0.9035\n"
      ]
     },
     "metadata": {},
     "output_type": "display_data"
    },
    {
     "data": {
      "text/plain": [
       "\n",
       "\tShapiro-Wilk normality test\n",
       "\n",
       "data:  chickwts$weight[which(chickwts$feed == \"meatmeal\")]\n",
       "W = 0.97914, p-value = 0.9612\n"
      ]
     },
     "metadata": {},
     "output_type": "display_data"
    },
    {
     "data": {
      "text/plain": [
       "\n",
       "\tShapiro-Wilk normality test\n",
       "\n",
       "data:  chickwts$weight[which(chickwts$feed == \"soybean\")]\n",
       "W = 0.9464, p-value = 0.5064\n"
      ]
     },
     "metadata": {},
     "output_type": "display_data"
    },
    {
     "data": {
      "text/plain": [
       "\n",
       "\tShapiro-Wilk normality test\n",
       "\n",
       "data:  chickwts$weight[which(chickwts$feed == \"sunflower\")]\n",
       "W = 0.92809, p-value = 0.3603\n"
      ]
     },
     "metadata": {},
     "output_type": "display_data"
    }
   ],
   "source": [
    "summary(chickwts)\n",
    "shapiro.test(chickwts$weight[which(chickwts$feed==\"casein\")])\n",
    "shapiro.test(chickwts$weight[which(chickwts$feed==\"horsebean\")])\n",
    "shapiro.test(chickwts$weight[which(chickwts$feed==\"linseed\")])\n",
    "shapiro.test(chickwts$weight[which(chickwts$feed==\"meatmeal\")])\n",
    "shapiro.test(chickwts$weight[which(chickwts$feed==\"soybean\")])\n",
    "shapiro.test(chickwts$weight[which(chickwts$feed==\"sunflower\")])"
   ]
  },
  {
   "cell_type": "code",
   "execution_count": 8,
   "id": "8f2932b8",
   "metadata": {},
   "outputs": [
    {
     "data": {
      "text/html": [
       "<table>\n",
       "<thead><tr><th scope=col>id</th><th scope=col>time</th><th scope=col>score</th></tr></thead>\n",
       "<tbody>\n",
       "\t<tr><td>1       </td><td>t1      </td><td>4.005027</td></tr>\n",
       "\t<tr><td>2       </td><td>t1      </td><td>2.558124</td></tr>\n",
       "\t<tr><td>3       </td><td>t1      </td><td>3.244241</td></tr>\n",
       "</tbody>\n",
       "</table>\n"
      ],
      "text/latex": [
       "\\begin{tabular}{r|lll}\n",
       " id & time & score\\\\\n",
       "\\hline\n",
       "\t 1        & t1       & 4.005027\\\\\n",
       "\t 2        & t1       & 2.558124\\\\\n",
       "\t 3        & t1       & 3.244241\\\\\n",
       "\\end{tabular}\n"
      ],
      "text/markdown": [
       "\n",
       "| id | time | score |\n",
       "|---|---|---|\n",
       "| 1        | t1       | 4.005027 |\n",
       "| 2        | t1       | 2.558124 |\n",
       "| 3        | t1       | 3.244241 |\n",
       "\n"
      ],
      "text/plain": [
       "  id time score   \n",
       "1 1  t1   4.005027\n",
       "2 2  t1   2.558124\n",
       "3 3  t1   3.244241"
      ]
     },
     "metadata": {},
     "output_type": "display_data"
    },
    {
     "data": {
      "text/html": [
       "<table>\n",
       "<thead><tr><th scope=col>Effect</th><th scope=col>DFn</th><th scope=col>DFd</th><th scope=col>F</th><th scope=col>p</th><th scope=col>p&lt;.05</th><th scope=col>ges</th></tr></thead>\n",
       "<tbody>\n",
       "\t<tr><td>time    </td><td>2       </td><td>18      </td><td>55.469  </td><td>2.01e-08</td><td>*       </td><td>0.829   </td></tr>\n",
       "</tbody>\n",
       "</table>\n"
      ],
      "text/latex": [
       "\\begin{tabular}{r|lllllll}\n",
       " Effect & DFn & DFd & F & p & p<.05 & ges\\\\\n",
       "\\hline\n",
       "\t time     & 2        & 18       & 55.469   & 2.01e-08 & *        & 0.829   \\\\\n",
       "\\end{tabular}\n"
      ],
      "text/markdown": [
       "\n",
       "| Effect | DFn | DFd | F | p | p<.05 | ges |\n",
       "|---|---|---|---|---|---|---|\n",
       "| time     | 2        | 18       | 55.469   | 2.01e-08 | *        | 0.829    |\n",
       "\n"
      ],
      "text/plain": [
       "  Effect DFn DFd F      p        p<.05 ges  \n",
       "1 time   2   18  55.469 2.01e-08 *     0.829"
      ]
     },
     "metadata": {},
     "output_type": "display_data"
    }
   ],
   "source": [
    "selfesteem <- selfesteem %>%\n",
    "  gather(key = \"time\", value = \"score\", t1, t2, t3) %>%\n",
    "  convert_as_factor(id, time)\n",
    "head(selfesteem, 3)\n",
    "\n",
    "res.aov <- anova_test(data = selfesteem, dv = score, wid = id, within = time)\n",
    "get_anova_table(res.aov)"
   ]
  }
 ],
 "metadata": {
  "kernelspec": {
   "display_name": "R",
   "language": "R",
   "name": "ir"
  },
  "language_info": {
   "codemirror_mode": "r",
   "file_extension": ".r",
   "mimetype": "text/x-r-source",
   "name": "R",
   "pygments_lexer": "r",
   "version": "3.6.1"
  }
 },
 "nbformat": 4,
 "nbformat_minor": 5
}
